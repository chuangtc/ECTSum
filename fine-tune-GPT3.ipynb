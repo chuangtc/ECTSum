{
 "cells": [
  {
   "attachments": {},
   "cell_type": "markdown",
   "metadata": {},
   "source": [
    "[![Open in Colab](https://colab.research.google.com/assets/colab-badge.svg)](https://colab.research.google.com/github/chuangtc/ECTSum/blob/main/fine-tune-GPT3.ipynb)\n"
   ]
  },
  {
   "cell_type": "code",
   "execution_count": 1,
   "metadata": {},
   "outputs": [
    {
     "name": "stdout",
     "output_type": "stream",
     "text": [
      "Hello, AIDATATOOLS\n",
      "Collecting openai\n",
      "  Downloading openai-0.26.5.tar.gz (55 kB)\n",
      "\u001b[2K     \u001b[90m━━━━━━━━━━━━━━━━━━━━━━━━━━━━━━━━━━━━━━━\u001b[0m \u001b[32m55.5/55.5 KB\u001b[0m \u001b[31m460.9 kB/s\u001b[0m eta \u001b[36m0:00:00\u001b[0ma \u001b[36m0:00:01\u001b[0m\n",
      "\u001b[?25h  Installing build dependencies ... \u001b[?25ldone\n",
      "\u001b[?25h  Getting requirements to build wheel ... \u001b[?25ldone\n",
      "\u001b[?25h  Installing backend dependencies ... \u001b[?25ldone\n",
      "\u001b[?25h  Preparing metadata (pyproject.toml) ... \u001b[?25ldone\n",
      "\u001b[?25hRequirement already satisfied: tqdm in /Users/jasontgi/.pyenv/versions/3.9.16/lib/python3.9/site-packages (from openai) (4.64.1)\n",
      "Requirement already satisfied: requests>=2.20 in /Users/jasontgi/.pyenv/versions/3.9.16/lib/python3.9/site-packages (from openai) (2.28.2)\n",
      "Collecting aiohttp\n",
      "  Downloading aiohttp-3.8.4-cp39-cp39-macosx_11_0_arm64.whl (338 kB)\n",
      "\u001b[2K     \u001b[90m━━━━━━━━━━━━━━━━━━━━━━━━━━━━━━━━━━━━━━━\u001b[0m \u001b[32m338.3/338.3 KB\u001b[0m \u001b[31m1.7 MB/s\u001b[0m eta \u001b[36m0:00:00\u001b[0m00:01\u001b[0m00:01\u001b[0m\n",
      "\u001b[?25hRequirement already satisfied: charset-normalizer<4,>=2 in /Users/jasontgi/.pyenv/versions/3.9.16/lib/python3.9/site-packages (from requests>=2.20->openai) (3.0.1)\n",
      "Requirement already satisfied: idna<4,>=2.5 in /Users/jasontgi/.pyenv/versions/3.9.16/lib/python3.9/site-packages (from requests>=2.20->openai) (3.4)\n",
      "Requirement already satisfied: urllib3<1.27,>=1.21.1 in /Users/jasontgi/.pyenv/versions/3.9.16/lib/python3.9/site-packages (from requests>=2.20->openai) (1.26.14)\n",
      "Requirement already satisfied: certifi>=2017.4.17 in /Users/jasontgi/.pyenv/versions/3.9.16/lib/python3.9/site-packages (from requests>=2.20->openai) (2022.12.7)\n",
      "Collecting aiosignal>=1.1.2\n",
      "  Downloading aiosignal-1.3.1-py3-none-any.whl (7.6 kB)\n",
      "Requirement already satisfied: attrs>=17.3.0 in /Users/jasontgi/.pyenv/versions/3.9.16/lib/python3.9/site-packages (from aiohttp->openai) (22.2.0)\n",
      "Collecting multidict<7.0,>=4.5\n",
      "  Downloading multidict-6.0.4-cp39-cp39-macosx_11_0_arm64.whl (29 kB)\n",
      "Collecting frozenlist>=1.1.1\n",
      "  Downloading frozenlist-1.3.3-cp39-cp39-macosx_11_0_arm64.whl (35 kB)\n",
      "Collecting async-timeout<5.0,>=4.0.0a3\n",
      "  Using cached async_timeout-4.0.2-py3-none-any.whl (5.8 kB)\n",
      "Collecting yarl<2.0,>=1.0\n",
      "  Downloading yarl-1.8.2-cp39-cp39-macosx_11_0_arm64.whl (57 kB)\n",
      "\u001b[2K     \u001b[90m━━━━━━━━━━━━━━━━━━━━━━━━━━━━━━━━━━━━━━━━\u001b[0m \u001b[32m57.8/57.8 KB\u001b[0m \u001b[31m4.6 MB/s\u001b[0m eta \u001b[36m0:00:00\u001b[0m\n",
      "\u001b[?25hBuilding wheels for collected packages: openai\n",
      "  Building wheel for openai (pyproject.toml) ... \u001b[?25ldone\n",
      "\u001b[?25h  Created wheel for openai: filename=openai-0.26.5-py3-none-any.whl size=67596 sha256=0e25a3d2604207f4a8180bd7b14de1e428d0b46fa94062bbf9910b367aa038e3\n",
      "  Stored in directory: /Users/jasontgi/Library/Caches/pip/wheels/6b/f6/a3/b6f128b03291d3b9c9b70b45ed4cb5ca32021aa4905b67c761\n",
      "Successfully built openai\n",
      "Installing collected packages: multidict, frozenlist, async-timeout, yarl, aiosignal, aiohttp, openai\n",
      "Successfully installed aiohttp-3.8.4 aiosignal-1.3.1 async-timeout-4.0.2 frozenlist-1.3.3 multidict-6.0.4 openai-0.26.5 yarl-1.8.2\n",
      "\u001b[33mWARNING: You are using pip version 22.0.4; however, version 23.0.1 is available.\n",
      "You should consider upgrading via the '/Users/jasontgi/.pyenv/versions/3.9.16/bin/python3.9 -m pip install --upgrade pip' command.\u001b[0m\u001b[33m\n",
      "\u001b[0m"
     ]
    }
   ],
   "source": [
    "print('Hello, AIDATATOOLS')\n",
    "!pip install --upgrade openai\n",
    "import os\n",
    "os.environ[\"OPENAI_API_KEY\"] = ''"
   ]
  },
  {
   "attachments": {},
   "cell_type": "markdown",
   "metadata": {},
   "source": [
    "## Do text smmarization, generate training validation data for GPT3"
   ]
  },
  {
   "cell_type": "code",
   "execution_count": null,
   "metadata": {},
   "outputs": [],
   "source": [
    "import json, requests\n",
    "\n",
    "def parse_line_break(foo): \n",
    "  return iter(foo.splitlines())\n",
    "\n",
    "\n",
    "train_http_path = \"https://github.com/chuangtc/ECTSum-GPT3/blob/main/data-bert/train.json?raw=true\"  \n",
    "req = requests.get(train_http_path)\n",
    "\n",
    "train_json_str_array = []\n",
    "train_json_str_array = list(parse_line_break(req.text))\n",
    "\n",
    "train_json =[]\n",
    "for x in train_json_str_array: \n",
    "  tmp_json = json.loads(x)\n",
    "  tmp_json['prompt'] = 'summarize the text:' + tmp_json.pop('doc')\n",
    "  tmp_json['completion'] = tmp_json.pop('summaries')\n",
    "  tmp_json.pop('labels', None)\n",
    "\n",
    "  train_json.append(tmp_json)\n",
    "\n",
    "val_http_path = \"https://github.com/chuangtc/ECTSum-GPT3/blob/main/data-bert/val.json?raw=true\"  \n",
    "req2 = requests.get(val_http_path)\n",
    "\n",
    "val_json_str_array = []\n",
    "val_json_str_array = list(parse_line_break(req2.text))\n",
    "\n",
    "val_json =[]\n",
    "for x in val_json_str_array: \n",
    "  tmp_json = json.loads(x)\n",
    "  tmp_json['prompt'] = tmp_json.pop('doc')\n",
    "  tmp_json['completion'] = tmp_json.pop('summaries')\n",
    "  tmp_json.pop('labels', None)\n",
    "\n",
    "  val_json.append(tmp_json)\n",
    "\n",
    "print('Training examples:')\n",
    "print(train_json[0])\n",
    "print(train_json[1])\n",
    "print('Validation examples:')\n",
    "print(val_json[0])\n",
    "print(val_json[1])"
   ]
  },
  {
   "cell_type": "code",
   "execution_count": null,
   "metadata": {},
   "outputs": [],
   "source": [
    "# Writing to sample.json\n",
    "with open(\"prepared_train.jsonl\", \"w\") as outfile:\n",
    "    outfile.write('\\n'.join(json.dumps(i) for i in train_json))\n",
    "\n",
    "# Writing to sample.json\n",
    "with open(\"prepared_val.jsonl\", \"w\") as outfile:\n",
    "    outfile.write('\\n'.join(json.dumps(i) for i in val_json))"
   ]
  },
  {
   "cell_type": "code",
   "execution_count": null,
   "metadata": {},
   "outputs": [],
   "source": [
    "!openai api fine_tunes.create -t \"prepared_train.jsonl\" -v \"prepared_val.jsonl\" -m ada "
   ]
  },
  {
   "attachments": {},
   "cell_type": "markdown",
   "metadata": {},
   "source": [
    "### It takes time to put fine-tune job in queue and training. Let's wait and check the status"
   ]
  },
  {
   "cell_type": "code",
   "execution_count": null,
   "metadata": {},
   "outputs": [],
   "source": [
    "!openai api fine_tunes.follow -i ft-GIfaAtg9FlLFQy8kPd1LOl1p"
   ]
  }
 ],
 "metadata": {
  "kernelspec": {
   "display_name": "Python 3",
   "language": "python",
   "name": "python3"
  },
  "language_info": {
   "codemirror_mode": {
    "name": "ipython",
    "version": 3
   },
   "file_extension": ".py",
   "mimetype": "text/x-python",
   "name": "python",
   "nbconvert_exporter": "python",
   "pygments_lexer": "ipython3",
   "version": "3.9.16"
  },
  "orig_nbformat": 4,
  "vscode": {
   "interpreter": {
    "hash": "c729383e6da80e919506282388b17d1ce109ba1945b55bed9eddbbcda99e332d"
   }
  }
 },
 "nbformat": 4,
 "nbformat_minor": 2
}
